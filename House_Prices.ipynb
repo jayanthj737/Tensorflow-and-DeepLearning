{
  "nbformat": 4,
  "nbformat_minor": 0,
  "metadata": {
    "colab": {
      "name": "House_Prices.ipynb",
      "provenance": []
    },
    "kernelspec": {
      "display_name": "Python 3",
      "name": "python3"
    }
  },
  "cells": [
    {
      "cell_type": "markdown",
      "metadata": {
        "colab_type": "text",
        "id": "mw2VBrBcgvGa"
      },
      "source": [
        "## Imports\n",
        "\n",
        "\n",
        "We then import a library called numpy, which helps us to represent our data as lists easily and quickly.\n",
        "\n",
        "The framework for defining a neural network as a set of Sequential layers is called keras, so we import that too."
      ]
    },
    {
      "cell_type": "code",
      "metadata": {
        "id": "4uGgAJBC_b5W",
        "colab_type": "code",
        "colab": {}
      },
      "source": [
        "import tensorflow as tf\n",
        "import numpy as np\n",
        "from tensorflow import keras"
      ],
      "execution_count": 0,
      "outputs": []
    },
    {
      "cell_type": "code",
      "metadata": {
        "colab_type": "code",
        "id": "PUNO2E6SeURH",
        "colab": {}
      },
      "source": [
        "\n",
        "model = tf.keras.Sequential([keras.layers.Dense(units = 1, input_shape = [1])])  #Single neuron model\n",
        "model.compile(optimizer = 'sgd', loss = 'mean_squared_error')                    #Defining and Compiling the Model\n",
        "xs = np.array([1.0, 2.0, 3.0, 4.0, 5.0, 6.0], dtype = float)                     #Providing the Data\n",
        "ys = np.array([100, 150, 200, 250, 300, 350], dtype = float)\n",
        "model.fit(xs, ys/100, epochs = 1000)                                             #Training the Model\n",
        "print(model.predict([7.0]))"
      ],
      "execution_count": 0,
      "outputs": []
    }
  ]
}